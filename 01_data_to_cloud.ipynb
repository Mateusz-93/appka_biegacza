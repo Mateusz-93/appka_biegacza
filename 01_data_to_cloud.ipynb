{
 "cells": [
  {
   "cell_type": "code",
   "execution_count": 1,
   "id": "6ec74882",
   "metadata": {},
   "outputs": [],
   "source": [
    "import pandas as pd\n",
    "import boto3\n",
    "import os\n",
    "from dotenv import load_dotenv\n"
   ]
  },
  {
   "cell_type": "code",
   "execution_count": 2,
   "id": "610b21ff",
   "metadata": {},
   "outputs": [
    {
     "data": {
      "text/html": [
       "<div>\n",
       "<style scoped>\n",
       "    .dataframe tbody tr th:only-of-type {\n",
       "        vertical-align: middle;\n",
       "    }\n",
       "\n",
       "    .dataframe tbody tr th {\n",
       "        vertical-align: top;\n",
       "    }\n",
       "\n",
       "    .dataframe thead th {\n",
       "        text-align: right;\n",
       "    }\n",
       "</style>\n",
       "<table border=\"1\" class=\"dataframe\">\n",
       "  <thead>\n",
       "    <tr style=\"text-align: right;\">\n",
       "      <th></th>\n",
       "      <th>Miejsce</th>\n",
       "      <th>Numer startowy</th>\n",
       "      <th>Imię</th>\n",
       "      <th>Nazwisko</th>\n",
       "      <th>Miasto</th>\n",
       "      <th>Kraj</th>\n",
       "      <th>Drużyna</th>\n",
       "      <th>Płeć</th>\n",
       "      <th>Płeć Miejsce</th>\n",
       "      <th>Kategoria wiekowa</th>\n",
       "      <th>...</th>\n",
       "      <th>10 km Tempo</th>\n",
       "      <th>15 km Czas</th>\n",
       "      <th>15 km Miejsce Open</th>\n",
       "      <th>15 km Tempo</th>\n",
       "      <th>20 km Czas</th>\n",
       "      <th>20 km Miejsce Open</th>\n",
       "      <th>20 km Tempo</th>\n",
       "      <th>Tempo Stabilność</th>\n",
       "      <th>Czas</th>\n",
       "      <th>Tempo</th>\n",
       "    </tr>\n",
       "  </thead>\n",
       "  <tbody>\n",
       "    <tr>\n",
       "      <th>0</th>\n",
       "      <td>1.0</td>\n",
       "      <td>1787</td>\n",
       "      <td>TOMASZ</td>\n",
       "      <td>GRYCKO</td>\n",
       "      <td>NaN</td>\n",
       "      <td>POL</td>\n",
       "      <td>UKS BLIZA WŁADYSŁAWOWO</td>\n",
       "      <td>M</td>\n",
       "      <td>1.0</td>\n",
       "      <td>M30</td>\n",
       "      <td>...</td>\n",
       "      <td>2.926667</td>\n",
       "      <td>00:44:47</td>\n",
       "      <td>1.0</td>\n",
       "      <td>3.106667</td>\n",
       "      <td>01:01:43</td>\n",
       "      <td>1.0</td>\n",
       "      <td>3.386667</td>\n",
       "      <td>0.031400</td>\n",
       "      <td>01:04:59</td>\n",
       "      <td>3.080509</td>\n",
       "    </tr>\n",
       "    <tr>\n",
       "      <th>1</th>\n",
       "      <td>2.0</td>\n",
       "      <td>3</td>\n",
       "      <td>ARKADIUSZ</td>\n",
       "      <td>GARDZIELEWSKI</td>\n",
       "      <td>WROCŁAW</td>\n",
       "      <td>POL</td>\n",
       "      <td>ARKADIUSZGARDZIELEWSKI.PL</td>\n",
       "      <td>M</td>\n",
       "      <td>2.0</td>\n",
       "      <td>M30</td>\n",
       "      <td>...</td>\n",
       "      <td>2.983333</td>\n",
       "      <td>00:45:26</td>\n",
       "      <td>2.0</td>\n",
       "      <td>3.143333</td>\n",
       "      <td>01:03:08</td>\n",
       "      <td>2.0</td>\n",
       "      <td>3.540000</td>\n",
       "      <td>0.038000</td>\n",
       "      <td>01:06:23</td>\n",
       "      <td>3.146875</td>\n",
       "    </tr>\n",
       "    <tr>\n",
       "      <th>2</th>\n",
       "      <td>3.0</td>\n",
       "      <td>3832</td>\n",
       "      <td>KRZYSZTOF</td>\n",
       "      <td>HADAS</td>\n",
       "      <td>POZNAŃ</td>\n",
       "      <td>POL</td>\n",
       "      <td>NaN</td>\n",
       "      <td>M</td>\n",
       "      <td>3.0</td>\n",
       "      <td>M20</td>\n",
       "      <td>...</td>\n",
       "      <td>3.123333</td>\n",
       "      <td>00:47:34</td>\n",
       "      <td>3.0</td>\n",
       "      <td>3.236667</td>\n",
       "      <td>01:05:09</td>\n",
       "      <td>3.0</td>\n",
       "      <td>3.516667</td>\n",
       "      <td>0.024067</td>\n",
       "      <td>01:08:24</td>\n",
       "      <td>3.242475</td>\n",
       "    </tr>\n",
       "    <tr>\n",
       "      <th>3</th>\n",
       "      <td>4.0</td>\n",
       "      <td>416</td>\n",
       "      <td>DAMIAN</td>\n",
       "      <td>DYDUCH</td>\n",
       "      <td>KĘPNO</td>\n",
       "      <td>POL</td>\n",
       "      <td>AZS POLITECHNIKA OPOLSKA</td>\n",
       "      <td>M</td>\n",
       "      <td>4.0</td>\n",
       "      <td>M30</td>\n",
       "      <td>...</td>\n",
       "      <td>3.196667</td>\n",
       "      <td>00:48:49</td>\n",
       "      <td>5.0</td>\n",
       "      <td>3.330000</td>\n",
       "      <td>01:06:54</td>\n",
       "      <td>4.0</td>\n",
       "      <td>3.616667</td>\n",
       "      <td>0.025467</td>\n",
       "      <td>01:10:16</td>\n",
       "      <td>3.330963</td>\n",
       "    </tr>\n",
       "    <tr>\n",
       "      <th>4</th>\n",
       "      <td>5.0</td>\n",
       "      <td>8476</td>\n",
       "      <td>KAMIL</td>\n",
       "      <td>MAŃKOWSKI</td>\n",
       "      <td>MIRKÓW</td>\n",
       "      <td>POL</td>\n",
       "      <td>PARKRUN WROCŁAW</td>\n",
       "      <td>M</td>\n",
       "      <td>5.0</td>\n",
       "      <td>M20</td>\n",
       "      <td>...</td>\n",
       "      <td>3.276667</td>\n",
       "      <td>00:49:31</td>\n",
       "      <td>7.0</td>\n",
       "      <td>3.386667</td>\n",
       "      <td>01:07:27</td>\n",
       "      <td>5.0</td>\n",
       "      <td>3.586667</td>\n",
       "      <td>0.023000</td>\n",
       "      <td>01:10:27</td>\n",
       "      <td>3.339654</td>\n",
       "    </tr>\n",
       "  </tbody>\n",
       "</table>\n",
       "<p>5 rows × 27 columns</p>\n",
       "</div>"
      ],
      "text/plain": [
       "   Miejsce  Numer startowy       Imię       Nazwisko   Miasto Kraj  \\\n",
       "0      1.0            1787     TOMASZ         GRYCKO      NaN  POL   \n",
       "1      2.0               3  ARKADIUSZ  GARDZIELEWSKI  WROCŁAW  POL   \n",
       "2      3.0            3832  KRZYSZTOF          HADAS   POZNAŃ  POL   \n",
       "3      4.0             416     DAMIAN         DYDUCH    KĘPNO  POL   \n",
       "4      5.0            8476      KAMIL      MAŃKOWSKI   MIRKÓW  POL   \n",
       "\n",
       "                     Drużyna Płeć  Płeć Miejsce Kategoria wiekowa  ...  \\\n",
       "0     UKS BLIZA WŁADYSŁAWOWO    M           1.0               M30  ...   \n",
       "1  ARKADIUSZGARDZIELEWSKI.PL    M           2.0               M30  ...   \n",
       "2                        NaN    M           3.0               M20  ...   \n",
       "3   AZS POLITECHNIKA OPOLSKA    M           4.0               M30  ...   \n",
       "4            PARKRUN WROCŁAW    M           5.0               M20  ...   \n",
       "\n",
       "   10 km Tempo  15 km Czas 15 km Miejsce Open  15 km Tempo  20 km Czas  \\\n",
       "0     2.926667    00:44:47                1.0     3.106667    01:01:43   \n",
       "1     2.983333    00:45:26                2.0     3.143333    01:03:08   \n",
       "2     3.123333    00:47:34                3.0     3.236667    01:05:09   \n",
       "3     3.196667    00:48:49                5.0     3.330000    01:06:54   \n",
       "4     3.276667    00:49:31                7.0     3.386667    01:07:27   \n",
       "\n",
       "  20 km Miejsce Open  20 km Tempo  Tempo Stabilność      Czas     Tempo  \n",
       "0                1.0     3.386667          0.031400  01:04:59  3.080509  \n",
       "1                2.0     3.540000          0.038000  01:06:23  3.146875  \n",
       "2                3.0     3.516667          0.024067  01:08:24  3.242475  \n",
       "3                4.0     3.616667          0.025467  01:10:16  3.330963  \n",
       "4                5.0     3.586667          0.023000  01:10:27  3.339654  \n",
       "\n",
       "[5 rows x 27 columns]"
      ]
     },
     "execution_count": 2,
     "metadata": {},
     "output_type": "execute_result"
    }
   ],
   "source": [
    "df_2023 = pd.read_csv('halfmarathon_wroclaw_2023__final.csv', sep=';')\n",
    "df_2023.head()"
   ]
  },
  {
   "cell_type": "code",
   "execution_count": null,
   "id": "c21240d8",
   "metadata": {},
   "outputs": [],
   "source": [
    "# funkcja, która zamienia całkowity czas biegu na sekundy\n",
    "def convert_time_to_seconds(time):\n",
    "    if pd.isnull(time) or time in ['DNS', 'DNF']:\n",
    "        return None\n",
    "    time = time.split(':')\n",
    "    return int(time[0]) * 3600 + int(time[1]) * 60 + int(time[2])"
   ]
  },
  {
   "cell_type": "code",
   "execution_count": null,
   "id": "c4b5eac7",
   "metadata": {},
   "outputs": [],
   "source": [
    "# Korzystamy z funkcji dla danych z 2023\n",
    "df_2023['Czas'] = df_2023['Czas'].apply(convert_time_to_seconds)"
   ]
  },
  {
   "cell_type": "code",
   "execution_count": null,
   "id": "7644192c",
   "metadata": {},
   "outputs": [
    {
     "data": {
      "text/plain": [
       "0    3899.0\n",
       "1    3983.0\n",
       "2    4104.0\n",
       "3    4216.0\n",
       "4    4227.0\n",
       "Name: Czas, dtype: float64"
      ]
     },
     "execution_count": 5,
     "metadata": {},
     "output_type": "execute_result"
    }
   ],
   "source": [
    "# Pokazujemy, że działa dla 5 pierwszych rekordów\n",
    "df_2023['Czas'].head()"
   ]
  },
  {
   "cell_type": "code",
   "execution_count": null,
   "id": "1eed0cfb",
   "metadata": {},
   "outputs": [
    {
     "data": {
      "text/plain": [
       "0    3843.0\n",
       "1    3864.0\n",
       "2    3880.0\n",
       "3    4184.0\n",
       "4    4205.0\n",
       "Name: Czas, dtype: float64"
      ]
     },
     "execution_count": 6,
     "metadata": {},
     "output_type": "execute_result"
    }
   ],
   "source": [
    "# Wczytujemy dane z 2024, używamy funkcji konwertowania czasu na sekundy i sprawdzamy czy działa\n",
    "df_2024 = pd.read_csv('halfmarathon_wroclaw_2024__final.csv', sep=';')\n",
    "df_2024['Czas'] = df_2024['Czas'].apply(convert_time_to_seconds)\n",
    "df_2024['Czas'].head()"
   ]
  },
  {
   "cell_type": "code",
   "execution_count": 7,
   "id": "d9438b0c",
   "metadata": {},
   "outputs": [],
   "source": [
    "# Zapisujemy przekształcone dane do plików csv\n",
    "df_2023.to_csv(\"dane_2023.csv\")\n",
    "df_2024.to_csv(\"dane_2024.csv\")"
   ]
  },
  {
   "cell_type": "code",
   "execution_count": 8,
   "id": "609fdcda",
   "metadata": {},
   "outputs": [
    {
     "data": {
      "text/plain": [
       "True"
      ]
     },
     "execution_count": 8,
     "metadata": {},
     "output_type": "execute_result"
    }
   ],
   "source": [
    "# W tak zwanym międzyczasie stworzyliśmy bucket na digitalocean, ładujemy sekrety\n",
    "load_dotenv()"
   ]
  },
  {
   "cell_type": "code",
   "execution_count": 9,
   "id": "1dcc0901",
   "metadata": {},
   "outputs": [],
   "source": [
    "s3 = boto3.client(\n",
    "    \"s3\",\n",
    ")"
   ]
  },
  {
   "cell_type": "code",
   "execution_count": 10,
   "id": "ac73fa03",
   "metadata": {},
   "outputs": [],
   "source": [
    "BUCKET_NAME = \"maratonymateusz\""
   ]
  },
  {
   "cell_type": "code",
   "execution_count": null,
   "id": "cebd92fd",
   "metadata": {},
   "outputs": [],
   "source": [
    "# Przesyłamy dane z 2023 do bucket'u \n",
    "s3.upload_file(\n",
    "    Filename=\"dane_2023.csv\",\n",
    "    Bucket=BUCKET_NAME,\n",
    "    Key=\"data/halfmarathon_2023.csv\"\n",
    ")"
   ]
  },
  {
   "cell_type": "code",
   "execution_count": 12,
   "id": "a9919cee",
   "metadata": {},
   "outputs": [],
   "source": [
    "# Przesyłamy dane z 2024 do bucket'u \n",
    "s3.upload_file(\n",
    "    Filename=\"dane_2024.csv\",\n",
    "    Bucket=BUCKET_NAME,\n",
    "    Key=\"data/halfmarathon_2024.csv\"\n",
    ")"
   ]
  }
 ],
 "metadata": {
  "kernelspec": {
   "display_name": "od_zera_do_ai",
   "language": "python",
   "name": "python3"
  },
  "language_info": {
   "codemirror_mode": {
    "name": "ipython",
    "version": 3
   },
   "file_extension": ".py",
   "mimetype": "text/x-python",
   "name": "python",
   "nbconvert_exporter": "python",
   "pygments_lexer": "ipython3",
   "version": "3.11.10"
  }
 },
 "nbformat": 4,
 "nbformat_minor": 5
}
